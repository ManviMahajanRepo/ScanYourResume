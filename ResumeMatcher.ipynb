{
 "cells": [
  {
   "cell_type": "code",
   "execution_count": null,
   "id": "ee548a1b",
   "metadata": {},
   "outputs": [],
   "source": [
    "import docx2txt\n",
    "import warnings\n",
    "warnings.filterwarnings('ignore')\n",
    "from PyPDF2 import PdfReader\n",
    "import pandas as pd"
   ]
  },
  {
   "cell_type": "code",
   "execution_count": null,
   "id": "d040c749",
   "metadata": {},
   "outputs": [],
   "source": [
    "job = docx2txt.process('Save the job descitption in docx file')"
   ]
  },
  {
   "cell_type": "code",
   "execution_count": null,
   "id": "caa01dcf",
   "metadata": {},
   "outputs": [],
   "source": [
    "# creating a pdf reader object\n",
    "reader = PdfReader('/your resume')\n",
    "  \n",
    "# printing number of pages in pdf file\n",
    "print(len(reader.pages))\n",
    "  \n",
    "# getting a specific page from the pdf file\n",
    "page = reader.pages[0]\n",
    "  \n",
    "# extracting text from page\n",
    "resume = page.extract_text()\n",
    "print()"
   ]
  },
  {
   "cell_type": "code",
   "execution_count": null,
   "id": "2d40d7aa",
   "metadata": {},
   "outputs": [],
   "source": [
    "job = docx2txt.process('Save the job descitption in docx file')"
   ]
  },
  {
   "cell_type": "code",
   "execution_count": null,
   "id": "ee7a0162",
   "metadata": {},
   "outputs": [],
   "source": [
    "data = [resume,job]"
   ]
  },
  {
   "cell_type": "code",
   "execution_count": null,
   "id": "c667ae02",
   "metadata": {},
   "outputs": [],
   "source": [
    "from sklearn.feature_extraction.text import CountVectorizer\n",
    "\n",
    "count_vectorizer = CountVectorizer()\n",
    "vector_matrix = count_vectorizer.fit_transform(data)\n",
    "vector_matrix"
   ]
  },
  {
   "cell_type": "code",
   "execution_count": null,
   "id": "30e77e08",
   "metadata": {},
   "outputs": [],
   "source": [
    "tokens = count_vectorizer.get_feature_names()\n",
    "tokens"
   ]
  },
  {
   "cell_type": "code",
   "execution_count": null,
   "id": "87e1edf6",
   "metadata": {},
   "outputs": [],
   "source": [
    "vector_matrix.toarray()"
   ]
  },
  {
   "cell_type": "code",
   "execution_count": null,
   "id": "d6c98fa3",
   "metadata": {},
   "outputs": [],
   "source": [
    "def create_dataframe(matrix, tokens):\n",
    "\n",
    "    doc_names = [f'doc_{i+1}' for i, _ in enumerate(matrix)]\n",
    "    df = pd.DataFrame(data=matrix, index=doc_names, columns=tokens)\n",
    "    return(df)"
   ]
  },
  {
   "cell_type": "code",
   "execution_count": null,
   "id": "84ae9321",
   "metadata": {},
   "outputs": [],
   "source": [
    "create_dataframe(vector_matrix.toarray(),tokens)"
   ]
  },
  {
   "cell_type": "code",
   "execution_count": null,
   "id": "42a23fd8",
   "metadata": {},
   "outputs": [],
   "source": [
    "from sklearn.metrics.pairwise import cosine_similarity\n",
    "\n",
    "cosine_similarity_matrix = cosine_similarity(vector_matrix)\n",
    "create_dataframe(cosine_similarity_matrix,['doc_1','doc_2'])"
   ]
  },
  {
   "cell_type": "code",
   "execution_count": null,
   "id": "8f2d4f94",
   "metadata": {},
   "outputs": [],
   "source": [
    "matchpercentage = cosine_similarity_matrix[0][1]\n",
    "matchpercentage = round(matchpercentage*100,2)\n",
    "print('Your Resume {} % match to the job description !'.format(matchpercentage))"
   ]
  },
  {
   "cell_type": "markdown",
   "id": "ce7d89a4",
   "metadata": {},
   "source": [
    "### Call TfidfVectorizer"
   ]
  },
  {
   "cell_type": "code",
   "execution_count": null,
   "id": "b915c4b0",
   "metadata": {},
   "outputs": [],
   "source": [
    "from sklearn.feature_extraction.text import TfidfVectorizer\n",
    "\n",
    "Tfidf_vect = TfidfVectorizer()\n",
    "vector_matrix = Tfidf_vect.fit_transform(data)\n",
    "\n",
    "tokens = Tfidf_vect.get_feature_names()\n",
    "create_dataframe(vector_matrix.toarray(),tokens)"
   ]
  },
  {
   "cell_type": "code",
   "execution_count": null,
   "id": "845f3766",
   "metadata": {},
   "outputs": [],
   "source": [
    "cosine_similarity_matrix = cosine_similarity(vector_matrix)\n",
    "create_dataframe(cosine_similarity_matrix,['doc_1','doc_2'])"
   ]
  },
  {
   "cell_type": "code",
   "execution_count": null,
   "id": "fd5d3703",
   "metadata": {},
   "outputs": [],
   "source": [
    "matchpercentage = cosine_similarity_matrix[0][1]\n",
    "matchpercentage = round(matchpercentage*100,2)\n",
    "print('Your Resume {} % match to the job description !'.format(matchpercentage))"
   ]
  }
 ],
 "metadata": {
  "kernelspec": {
   "display_name": "Python 3 (ipykernel)",
   "language": "python",
   "name": "python3"
  },
  "language_info": {
   "codemirror_mode": {
    "name": "ipython",
    "version": 3
   },
   "file_extension": ".py",
   "mimetype": "text/x-python",
   "name": "python",
   "nbconvert_exporter": "python",
   "pygments_lexer": "ipython3",
   "version": "3.9.12"
  }
 },
 "nbformat": 4,
 "nbformat_minor": 5
}
